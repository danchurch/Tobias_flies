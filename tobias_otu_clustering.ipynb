{
 "cells": [
  {
   "cell_type": "markdown",
   "metadata": {},
   "source": [
    "# Tobias fly OTU clustering"
   ]
  },
  {
   "cell_type": "markdown",
   "metadata": {},
   "source": [
    "Let's get some reasonable species-level hypotheses for Tobias' fly sequences. We'll use the [usearch](#http://drive5.com/usearch/) family of clustering algorithms and the [uparse pipeline](#http://drive5.com/usearch/manual/uparse_pipeline.html) for creating an OTU table, specifically a biom table, for our downstream analyses. Usearch comes in two sizes, 64 and 32 bit. The 32 bit version is free and fine for small datasets, we can get it [here](3http://www.drive5.com/usearch/download.html). "
   ]
  },
  {
   "cell_type": "markdown",
   "metadata": {},
   "source": [
    "So let's download usearch, rename it and put it in our binaries (mac users are going to have to put it somewhere more local). Then get Bitty's fasta file, rename and turn it into a read-only file so we don't accidentally change it while using it. "
   ]
  },
  {
   "cell_type": "code",
   "execution_count": 1,
   "metadata": {},
   "outputs": [],
   "source": [
    "cd /home/daniel/Documents/tobias_flies"
   ]
  },
  {
   "cell_type": "code",
   "execution_count": 3,
   "metadata": {},
   "outputs": [
    {
     "ename": "",
     "evalue": "1",
     "output_type": "error",
     "traceback": []
    }
   ],
   "source": [
    "sudo mv usearch9.2.64_i86linux32 /usr/bin/usearch92"
   ]
  },
  {
   "cell_type": "code",
   "execution_count": 3,
   "metadata": {},
   "outputs": [
    {
     "name": "stdout",
     "output_type": "stream",
     "text": []
    }
   ],
   "source": [
    "## for some reason, I don't have execution privileges on this...\n",
    "chmod u+x usearch92"
   ]
  },
  {
   "cell_type": "code",
   "execution_count": 5,
   "metadata": {},
   "outputs": [],
   "source": [
    "## get the fasta files, write protect them:\n",
    "## renamed Bitty's latest fly file: \"fasta.fas.txt\" to \"tobias_flies_edited_25.01.2106.fasta\"\n",
    "\n",
    "chmod 444 tobias_flies_edited_25.01.2106.fasta"
   ]
  },
  {
   "cell_type": "code",
   "execution_count": 6,
   "metadata": {
    "scrolled": false
   },
   "outputs": [
    {
     "name": "stdout",
     "output_type": "stream",
     "text": [
      ">RLCI001-16|Staphylinidae|C10.08\n",
      "CATAAAGATATTGGAACTTTATATTTTATTTTTGGCGCTTGATCTGGAATAGTAGGAACTTCTTTAAGATTATTAATCCGTACAGAATTAGGTAATCCAGGATCATTAATTGGAGATGATCAAATTTATAATGTTATTGTTACAGCCCATGCATTTATTATAATTTTCTTTATAGTTATACCAACCATAATTGGAGGATTTGGTAATTGATTAGTACCTTTAATATTAGGAGCACCTGATATAGCTTTCCCTCGAATAAATAATATAAGATTTTGACTTCTACCTCCTTCTCTATCTCTTCTATTAATAAGAAGCTTAATTGAAAGAGGAGCTGGAACTGGTTGAACAGTTTATCCCCCTCTTTCATCTAATATCGCCCATGGTGGAGCTTCTGTAGATACTGCAATTTTTAGATTACATTTAGCTGGAATTTCATCTATTTTAGGAGCAGTAAATTTTATTACTACAGTAATTAATATACGATCTACTGGAATATCTTTTGATCGTATATCTTTATTTATTTGATCAGTATCAATTACTGCATTACTTTTATTATTATCCTTGCCTGTACTAGCAGGAGCTATCACTATACTTTTAACTGACCGTAATCTTAATACTTCATTTTTTGATCCTGCTGGAGGAGGAGACCCTGTTTTATACCAACACTTATTTTGATTTTTTGGTCC\n",
      ">RLCI003-16|Hirtodrosophila sp_10DG|C208.01\n",
      "CATAAAGATATTGGAACTTTATATTTCATTTTTGGTGCTTGAGCAGGAATAGTGGGAACATCTTTAAGAATCTTAATTCGAGCTGAATTAGGACATCCAGGAGCTCTTATTGGTGATGACCAAATTTATAATGTAATTGTAACAGCCCATGCTTTTATTATAATTTTTTTTATAGTTATACCAGTAATAATTGGAGGATTTGGAAATTGACTTGTTCCCTTAATATTAGGAGCCCCTGATATGGCTTTTCCCCGAATAAATAATATAAGTTTCTGACTTTTACCCCCTGCTTTAACACTATTACTAGTAAGAAGTATAGTAGAAAATGGAGCTGGGACAGGATGAACGGTTTACCCTCCTTTATCAGCCGGTATTGCTCATGGAGGTGCTTCAGTTGACTTAGCTATTTTCTCTCTTCATTTAGCTGGAATTTCTTCTATTTTAGGGGCTGTAAATTTTATTACAACAGTTATTAATATACGATCTTCAGGTATCACTCTTGATCGAATACCTTTATTTGTTTGATCAGTTGTAATTACAGCTCTTTTACTTCTTTTATCTTTACCTGTTTTAGCAGGTGCAATTACGATACTTTTAACTGACCGAAATTTAAATACTTCTTTTTTTGACCCAGCAGGAGGAGGAGATCCAATTCTGTACCAACATTTATTTTGATTTTTTGGTC\n"
     ]
    }
   ],
   "source": [
    "## what do they look like?\n",
    "head tobias_flies_edited_25.01.2106.fasta -n 4"
   ]
  },
  {
   "cell_type": "markdown",
   "metadata": {},
   "source": [
    "How many sequences are there?"
   ]
  },
  {
   "cell_type": "code",
   "execution_count": 7,
   "metadata": {
    "scrolled": true
   },
   "outputs": [
    {
     "name": "stdout",
     "output_type": "stream",
     "text": [
      "615\n"
     ]
    }
   ],
   "source": [
    "grep \"^>\" tobias_flies_edited_25.01.2106.fasta | wc -l"
   ]
  },
  {
   "cell_type": "markdown",
   "metadata": {},
   "source": [
    "Check these for primers. Tobias and Bitty used the barcode gene for [Cytochrome C oxidase](#https://en.wikipedia.org/wiki/Cytochrome_c_oxidase_subunit_I), or COI. The primers are found [here](http://www.dnabarcodes2011.org/conference/preconference/Smithsonian-LABprimertable.pdf), under named LCO1490 (forward) and HCO2198 (reverse). Bitty created consensus sequences in the forward direction (forward primer read in 5'-3'). We need to remove primers before clustering, if present. To look for them: "
   ]
  },
  {
   "cell_type": "code",
   "execution_count": 8,
   "metadata": {},
   "outputs": [],
   "source": [
    "## COI forward primers:\n",
    "coiF=GGTCAACAAATCATAAAGATATTGG\n",
    "\n",
    "## COI reverse primers, reverse compliment\n",
    "coiRrc=TGATTTTTTGGTCACCCTGAAGTTTA"
   ]
  },
  {
   "cell_type": "markdown",
   "metadata": {},
   "source": [
    "Are these forward primers in our sequences? We can look with grep."
   ]
  },
  {
   "cell_type": "code",
   "execution_count": 9,
   "metadata": {
    "scrolled": false
   },
   "outputs": [
    {
     "name": "stdout",
     "output_type": "stream",
     "text": [
      ">RLCI054-16|Zygothrica sp_41DG|C240.30\n",
      "TGGTCAACAAATCATAAAGATATTGGAACATTATATTTTATTTTTGGTGCATGAGCTGGGATAGTCGGAACATCATTAAGAATCTTAATTCGAGCAGAATTAGGTCACCCAGGAGCCCTAATTGGTGATGATCAAATTTATAACGTAATTGTGACTGCTCATGCTTTTATTATAATTTTTTTTATAGTTATACCAATTATAATTGGTGGATTTGGAAATTGATTAGTTCCCTTAATATTAGGAGCTCCTGATATAGCATTTCCTCGAATAAATAATATAAGTTTCTGATTACTTCCTCCAGCTTTAACTCTTTTATTGGTTAGAAGAATAGTGGAAAATGGAGCTGGAACTGGATGAACAGTTTACCCTCCTTTATCATCAGGAATTGCTCATGGTGGAGCTTCTGTTGATCTAGCCATTTTTTCTCTTCATCTAGCAGGTATTTCATCAATTTTAGGAGCTGTAAATTTTATCACAACAGTAATTAATATACGATCATCTGGGATTACTCTTGATCGAATACCTTTATTTGTATGATCAGTTGTTATTACAGCTTTACTTCTTCTTTTATCTTTACCAGTTTTAGCAGGTGCTATTACTATATTATTAACAGATCGAAATTTAAATACTTCATTTTTTGACCCAGCTGGAGGAGGAGACCCAATTTTATACCAACATTTATTCTGATTTTTTGGTCACCCTGAAGTTTA\n",
      "--\n",
      ">RLCI056-16|Zygothrica sp_41DG|C240.32\n",
      "TGGTCAACAAATCATAAAGATATTGGAACATTATATTTTATTTTTGGTGCATGAGCTGGGATAGTCGGAACATCATTAAGAATCTTAATTCGAGCAGAATTAGGTCACCCAGGAGCCCTAATTGGTGATGATCAAATTTATAACGTAATTGTAACTGCTCATGCTTTTATTATAATTTTTTTTATAGTTATACCAATTATAATTGGTGGATTTGGAAATTGATTAGTTCCCTTAATATTAGGAGCTCCTGATATAGCATTTCCTCGAATAAATAATATAAGTTTCTGATTACTTCCTCCAGCTTTAACTCTTTTATTGGTTAGAAGAATAGTGGAAAATGGAGCTGGAACTGGATGAACAGTTTACCCTCCTTTATCATCAGGAATTGCTCATGGTGGAGCTTCTGTTGATCTAGCCATTTTTTCTCTTCATCTAGCAGGTATTTCATCAATTTTAGGAGCTGTAAATTTTATCACAACAGTAATTAATATACGATCATCTGGGATTACTCTTGATCGAATACCTTTATTTGTATGATCAGTTGTTATTACAGCTTTACTTCTTCTTTTATCTTTACCAGTTTTAGCAGGTGCTATTACTATATTATTAACAGATCGAAATTTAAATACTTCATTTTTTGACCCAGCTGGAGGAGGAGACCCAATTTTATACCAACATTTATTCTGATTTTTTGGTCACCCTGAAGTTTA\n",
      "grep: write error: Broken pipe\n"
     ]
    }
   ],
   "source": [
    "grep .*$coiF tobias_flies_edited_25.01.2106.fasta -B 1 | head -n 5"
   ]
  },
  {
   "cell_type": "markdown",
   "metadata": {},
   "source": [
    "Etc, etc. Yep, they're in there. How many?"
   ]
  },
  {
   "cell_type": "code",
   "execution_count": 10,
   "metadata": {},
   "outputs": [
    {
     "name": "stdout",
     "output_type": "stream",
     "text": [
      "12\n"
     ]
    }
   ],
   "source": [
    "grep .*$coiF tobias_flies_edited_25.01.2106.fasta | wc -l"
   ]
  },
  {
   "cell_type": "markdown",
   "metadata": {},
   "source": [
    "How many contain reverse primers? Using the reverse compliment:"
   ]
  },
  {
   "cell_type": "code",
   "execution_count": 11,
   "metadata": {},
   "outputs": [
    {
     "name": "stdout",
     "output_type": "stream",
     "text": [
      "9\n"
     ]
    }
   ],
   "source": [
    "grep $coiRrc.*$ tobias_flies_edited_25.01.2106.fasta | wc -l"
   ]
  },
  {
   "cell_type": "markdown",
   "metadata": {},
   "source": [
    "So let's remove these with SED:"
   ]
  },
  {
   "cell_type": "code",
   "execution_count": 12,
   "metadata": {},
   "outputs": [],
   "source": [
    "sed s/.*$coiF//g tobias_flies_edited_25.01.2106.fasta | sed s/$coiRrc.*$//g > cleanflies.fasta"
   ]
  },
  {
   "cell_type": "markdown",
   "metadata": {},
   "source": [
    "These are high-quality, hand-curated sanger sequences, so I'm going to skip a lot of the standard illumina quality checks, such as extensive testing for chimeric sequences, and removing singletons. \n",
    "\n",
    "The next step is to stack these reads into piles of identical (100% similarity, equal base pairs) sequences:"
   ]
  },
  {
   "cell_type": "code",
   "execution_count": 13,
   "metadata": {},
   "outputs": [
    {
     "name": "stdout",
     "output_type": "stream",
     "text": [
      "usearch v9.2.64_i86linux32, 3.9Gb RAM, 4 cores\n",
      "(C) Copyright 2013-16 Robert C. Edgar, all rights reserved.\n",
      "http://drive5.com/usearch\n",
      "\n",
      "License: danchurchthomas@gmail.com\n",
      "\n",
      "00:00 41Mb    100.0% Reading cleanflies.fasta\n",
      "00:00 33Mb    100.0% DF                      \n",
      "00:00 35Mb   615 seqs, 358 uniques, 293 singletons (81.8%)\n",
      "00:00 35Mb   Min size 1, median 1, max 24, avg 1.72\n",
      "00:00 35Mb    100.0% Writing tobias_uniques.fasta\n"
     ]
    }
   ],
   "source": [
    "usearch92 -fastx_uniques cleanflies.fasta -fastaout tobias_uniques.fasta -sizeout -relabel Uniq\n",
    "\n",
    "## if it turns out we have reverse sequences, include -strand both in this "
   ]
  },
  {
   "cell_type": "markdown",
   "metadata": {},
   "source": [
    "Sort them, not going to use a minimum size. This is normally how we exclude singletons and I do not want to do this here:"
   ]
  },
  {
   "cell_type": "code",
   "execution_count": 14,
   "metadata": {
    "scrolled": true
   },
   "outputs": [
    {
     "name": "stdout",
     "output_type": "stream",
     "text": [
      "usearch v9.2.64_i86linux32, 3.9Gb RAM, 4 cores\n",
      "(C) Copyright 2013-16 Robert C. Edgar, all rights reserved.\n",
      "http://drive5.com/usearch\n",
      "\n",
      "License: danchurchthomas@gmail.com\n",
      "\n",
      "00:00 40Mb    100.0% Reading tobias_uniques.fasta\n",
      "00:00 6.7Mb  Getting sizes                       \n",
      "00:00 6.7Mb  Sorting 358 sequences\n",
      "00:00 6.7Mb   100.0% Writing output\n"
     ]
    }
   ],
   "source": [
    "usearch92 -sortbysize tobias_uniques.fasta -fastaout tobias_sorted.fasta -minsize 1"
   ]
  },
  {
   "cell_type": "markdown",
   "metadata": {},
   "source": [
    "Now these look like this:"
   ]
  },
  {
   "cell_type": "code",
   "execution_count": 33,
   "metadata": {
    "scrolled": false
   },
   "outputs": [
    {
     "name": "stdout",
     "output_type": "stream",
     "text": [
      ">Uniq1;size=24;\r\n",
      "CATAAAGATATTGGAACTTTATACTTTATTTTCGGTGCTTGAGCAGGAATAGTAGGGACATCTCTAAGAATTTTAATTCG\r\n",
      "AGCTGAATTAGGTCATCCTGGTGCCTTAATTGGAGATGACCAAATTTATAACGTAATTGTTACTGCCCATGCTTTTGTAA\r\n",
      "TAATTTTTTTTATAGTAATACCAATTATAATTGGAGGATTTGGAAACTGATTAGTGCCCCTAATGTTAGGAGCACCAGAT\r\n",
      "ATAGCATTTCCTCGAATAAATAATATAAGTTTTTGATTACTACCTCCAGCTTTAACACTTTTATTGGTTAGAAGTATAGT\r\n",
      "AGAAAATGGAGCTGGAACTGGATGAACAGTCTACCCACCTTTATCTGCAGGAATTGCCCACGGTGGAGCTTCAGTTGATT\r\n",
      "TAGCAATTTTCTCATTACATTTAGCCGGAATTTCTTCAATTTTAGGAGCTGTAAATTTTATTACAACAGTAATTAATATA\r\n",
      "CGATCATCAGGTATTACTCTTGATCGAATACCTTTATTTGTTTGATCAGTAGTTATTACTGCTTTACTTCTTCTTCTTTC\r\n",
      "TTTACCAGTTTTAGCAGGAGCTATTACTATACTATTAACAGACCGAAATTTAAACACTTCATTTTTTGACCCAGCAGGAG\r\n",
      "GAGGGGACCCTATTTTATACCAACATTTATTCTGATTTTTTGGTCA\r\n",
      ">Uniq2;size=19;\r\n",
      "CATAAAGATATTGGAACATTATATTTTATTTTTGGTGCCTGAGCAGGAATAGTGGGAACTTCTTTAAGAATTCTAATTCG\r\n",
      "TGCTGAACTAGGACACCCAGGAGCTTTAATTGGAGATGATCAAATTTATAATGTGATTGTAACCGCTCATGCTTTCATTA\r\n",
      "TAATTTTTTTTATAGTAATACCTATTATAATTGGAGGATTTGGGAATTGATTAGTCCCACTAATATTAGGAGCACCTGAT\r\n",
      "ATAGCATTCCCACGAATAAATAATATAAGTTTTTGGTTACTTCCTCCAGCTCTTACCCTTTTATTGGTAAGTAGAATAGT\r\n"
     ]
    }
   ],
   "source": [
    "head tobias_sorted.fasta -n 15"
   ]
  },
  {
   "cell_type": "markdown",
   "metadata": {},
   "source": [
    "How many sets of unique sequences are there?"
   ]
  },
  {
   "cell_type": "code",
   "execution_count": 16,
   "metadata": {
    "scrolled": true
   },
   "outputs": [
    {
     "name": "stdout",
     "output_type": "stream",
     "text": [
      "358\n"
     ]
    }
   ],
   "source": [
    "grep \"^>\" tobias_sorted.fasta | wc -l"
   ]
  },
  {
   "cell_type": "markdown",
   "metadata": {},
   "source": [
    "Now cluster these into 99% similarity radius OTUs, using usearch. The [-cluster_smallmem](http://drive5.com/usearch/manual/cmd_cluster_smallmem.html) is the command of choice here, because we are using a radius other than 97%, and these are not illumina reads, see discussion [here](http://drive5.com/usearch/manual/uparse_otu_radius.html). "
   ]
  },
  {
   "cell_type": "code",
   "execution_count": 17,
   "metadata": {
    "scrolled": true
   },
   "outputs": [
    {
     "name": "stdout",
     "output_type": "stream",
     "text": [
      "usearch v9.2.64_i86linux32, 3.9Gb RAM, 4 cores\n",
      "(C) Copyright 2013-16 Robert C. Edgar, all rights reserved.\n",
      "http://drive5.com/usearch\n",
      "\n",
      "License: danchurchthomas@gmail.com\n",
      "\n",
      "00:00 43Mb    100.0% 85 clusters, max size 59, avg 4.2\n",
      "00:00 44Mb    100.0% Writing centroids to tobias_99otus.fasta\n",
      "                                                             \n",
      "      Seqs  358\n",
      "  Clusters  85\n",
      "  Max size  59\n",
      "  Avg size  4.2\n",
      "  Min size  1\n",
      "Singletons  41, 11.5% of seqs, 48.2% of clusters\n",
      "   Max mem  44Mb\n",
      "      Time  1.00s\n",
      "Throughput  358.0 seqs/sec.\n",
      "\n"
     ]
    }
   ],
   "source": [
    "usearch92 -cluster_smallmem tobias_sorted.fasta -sortedby size -id .99 -centroids tobias_99otus.fasta"
   ]
  },
  {
   "cell_type": "markdown",
   "metadata": {},
   "source": [
    "Let's also do a 98% similarity radius. This may be useful. "
   ]
  },
  {
   "cell_type": "code",
   "execution_count": 18,
   "metadata": {
    "scrolled": true
   },
   "outputs": [
    {
     "name": "stdout",
     "output_type": "stream",
     "text": [
      "usearch v9.2.64_i86linux32, 3.9Gb RAM, 4 cores\n",
      "(C) Copyright 2013-16 Robert C. Edgar, all rights reserved.\n",
      "http://drive5.com/usearch\n",
      "\n",
      "License: danchurchthomas@gmail.com\n",
      "\n",
      "00:00 43Mb    100.0% 79 clusters, max size 59, avg 4.5\n",
      "00:00 43Mb    100.0% Writing centroids to tobias_98otus.fasta\n",
      "                                                             \n",
      "      Seqs  358\n",
      "  Clusters  79\n",
      "  Max size  59\n",
      "  Avg size  4.5\n",
      "  Min size  1\n",
      "Singletons  32, 8.9% of seqs, 40.5% of clusters\n",
      "   Max mem  43Mb\n",
      "      Time  1.00s\n",
      "Throughput  358.0 seqs/sec.\n",
      "\n"
     ]
    }
   ],
   "source": [
    "usearch92 -cluster_smallmem tobias_sorted.fasta -sortedby size -id .98 -centroids tobias_98otus.fasta"
   ]
  },
  {
   "cell_type": "markdown",
   "metadata": {},
   "source": [
    "After this, we'll have duplicate lines of code for process, one for 98% and one for 99%. "
   ]
  },
  {
   "cell_type": "markdown",
   "metadata": {},
   "source": [
    "Looks like?"
   ]
  },
  {
   "cell_type": "code",
   "execution_count": 19,
   "metadata": {
    "scrolled": true
   },
   "outputs": [
    {
     "name": "stdout",
     "output_type": "stream",
     "text": [
      ">Uniq3;size=17;\n",
      "CATAAAGATATTGGAACATTATATTTTATTTTTGGTGCATGAGCTGGGATAGTCGGAACATCATTAAGAATCTTAATTCG\n",
      "AGCAGAATTAGGTCACCCAGGAGCCCTAATTGGTGATGATCAAATTTATAACGTAATTGTGACTGCTCATGCTTTTATTA\n",
      "TAATTTTTTTTATAGTTATACCAATTATAATTGGTGGATTTGGAAATTGATTAGTTCCCTTAATATTAGGAGCTCCTGAT\n",
      "ATAGCATTTCCTCGAATAAATAATATAAGTTTCTGATTACTTCCTCCAGCTTTAACTCTTTTATTGGTTAGAAGAATAGT\n",
      "GGAAAATGGAGCTGGAACTGGATGAACAGTTTACCCTCCTTTATCATCAGGAATTGCTCATGGTGGAGCTTCTGTTGATC\n",
      "TAGCCATTTTTTCTCTTCATCTAGCAGGTATTTCATCAATTTTAGGAGCTGTAAATTTTATCACAACAGTAATTAATATA\n",
      "CGATCATCTGGGATTACTCTTGATCGAATACCTTTATTTGTATGATCAGTTGTTATTACAGCTTTACTTCTTCTTTTATC\n",
      "TTTACCAGTTTTAGCAGGTGCTATTACTATATTATTAACAGATCGAAATTTAAATACTTCATTTTTTGACCCAGCTGGAG\n",
      "GAGGAGACCCAATTTTATACCAACATTTATTCTGATTTTTTGGTCAC\n",
      ">Uniq6;size=11;\n",
      "CATAAAGATATTGGAACACTTTATTTTATTTTTGGGGTGTGGGCAGGAATAATTGGCACATCAATAAGAATACTTATTCG\n",
      "TGCAGAATTAAGAACCCCCCTTCCTCTTTTAGGAAACGACCAAATTTTTAATGTTATTGTAACCGCTCATGCTTTTGTAA\n",
      "TAATTTTTTTTATAGTAATACCTATTATAATGGGAGGATTTGGTAATTGACTAGTTCCATTAATACTAGGAGCCCCGGAT\n",
      "ATAGCCTTCCCCCGAATAAATAATATAAGATTTTGAATACTCCCCCCTTCTCTAACTCTTCTACTTTTAAGTAGCCTTAC\n"
     ]
    }
   ],
   "source": [
    "head tobias_99otus.fasta -n 15"
   ]
  },
  {
   "cell_type": "code",
   "execution_count": 20,
   "metadata": {
    "scrolled": false
   },
   "outputs": [
    {
     "name": "stdout",
     "output_type": "stream",
     "text": [
      ">Uniq3;size=17;\n",
      "CATAAAGATATTGGAACATTATATTTTATTTTTGGTGCATGAGCTGGGATAGTCGGAACATCATTAAGAATCTTAATTCG\n",
      "AGCAGAATTAGGTCACCCAGGAGCCCTAATTGGTGATGATCAAATTTATAACGTAATTGTGACTGCTCATGCTTTTATTA\n",
      "TAATTTTTTTTATAGTTATACCAATTATAATTGGTGGATTTGGAAATTGATTAGTTCCCTTAATATTAGGAGCTCCTGAT\n",
      "ATAGCATTTCCTCGAATAAATAATATAAGTTTCTGATTACTTCCTCCAGCTTTAACTCTTTTATTGGTTAGAAGAATAGT\n",
      "GGAAAATGGAGCTGGAACTGGATGAACAGTTTACCCTCCTTTATCATCAGGAATTGCTCATGGTGGAGCTTCTGTTGATC\n",
      "TAGCCATTTTTTCTCTTCATCTAGCAGGTATTTCATCAATTTTAGGAGCTGTAAATTTTATCACAACAGTAATTAATATA\n",
      "CGATCATCTGGGATTACTCTTGATCGAATACCTTTATTTGTATGATCAGTTGTTATTACAGCTTTACTTCTTCTTTTATC\n",
      "TTTACCAGTTTTAGCAGGTGCTATTACTATATTATTAACAGATCGAAATTTAAATACTTCATTTTTTGACCCAGCTGGAG\n",
      "GAGGAGACCCAATTTTATACCAACATTTATTCTGATTTTTTGGTCAC\n",
      ">Uniq6;size=11;\n",
      "CATAAAGATATTGGAACACTTTATTTTATTTTTGGGGTGTGGGCAGGAATAATTGGCACATCAATAAGAATACTTATTCG\n",
      "TGCAGAATTAAGAACCCCCCTTCCTCTTTTAGGAAACGACCAAATTTTTAATGTTATTGTAACCGCTCATGCTTTTGTAA\n",
      "TAATTTTTTTTATAGTAATACCTATTATAATGGGAGGATTTGGTAATTGACTAGTTCCATTAATACTAGGAGCCCCGGAT\n",
      "ATAGCCTTCCCCCGAATAAATAATATAAGATTTTGAATACTCCCCCCTTCTCTAACTCTTCTACTTTTAAGTAGCCTTAC\n"
     ]
    }
   ],
   "source": [
    "head tobias_98otus.fasta -n 15"
   ]
  },
  {
   "cell_type": "markdown",
   "metadata": {},
   "source": [
    "How many OTUs?"
   ]
  },
  {
   "cell_type": "code",
   "execution_count": 21,
   "metadata": {},
   "outputs": [
    {
     "name": "stdout",
     "output_type": "stream",
     "text": [
      "85\n"
     ]
    }
   ],
   "source": [
    "grep \"^>\" tobias_99otus.fasta | wc -l"
   ]
  },
  {
   "cell_type": "code",
   "execution_count": 22,
   "metadata": {},
   "outputs": [
    {
     "name": "stdout",
     "output_type": "stream",
     "text": [
      "79\n"
     ]
    }
   ],
   "source": [
    "grep \"^>\" tobias_98otus.fasta | wc -l"
   ]
  },
  {
   "cell_type": "markdown",
   "metadata": {
    "collapsed": true
   },
   "source": [
    "Now, if we want to get a membership list of these OTUs? As in, what fly sequences belong to each of these OTUs? It seems like there should be an easy way to get USEARCH to keep track as it goes of this, but I don't know it. Instead, I'll do a quick [BLAST](https://blast.ncbi.nlm.nih.gov/Blast.cgi) assignment, using our new OTUs as the reference database. First, let's cleanup the OTU labels a little:"
   ]
  },
  {
   "cell_type": "code",
   "execution_count": 23,
   "metadata": {},
   "outputs": [],
   "source": [
    "sed 's/;size.*;/;/' tobias_99otus.fasta > tobias_99otus_relab.fasta\n",
    "sed 's/;size.*;/;/' tobias_98otus.fasta > tobias_98otus_relab.fasta"
   ]
  },
  {
   "cell_type": "markdown",
   "metadata": {},
   "source": [
    "Now the sequence headers look like this:"
   ]
  },
  {
   "cell_type": "code",
   "execution_count": 26,
   "metadata": {
    "scrolled": true
   },
   "outputs": [
    {
     "name": "stdout",
     "output_type": "stream",
     "text": [
      ">Uniq3;\n",
      "CATAAAGATATTGGAACATTATATTTTATTTTTGGTGCATGAGCTGGGATAGTCGGAACATCATTAAGAATCTTAATTCG\n",
      "AGCAGAATTAGGTCACCCAGGAGCCCTAATTGGTGATGATCAAATTTATAACGTAATTGTGACTGCTCATGCTTTTATTA\n"
     ]
    }
   ],
   "source": [
    "head -n 3 tobias_99otus_relab.fasta"
   ]
  },
  {
   "cell_type": "markdown",
   "metadata": {},
   "source": [
    "Make our BLAST-searchable database from our OTUs:"
   ]
  },
  {
   "cell_type": "code",
   "execution_count": 28,
   "metadata": {},
   "outputs": [],
   "source": [
    "makeblastdb -in tobias_99otus_relab.fasta -dbtype nucl -logfile blastdb99_errors.txt\n",
    "makeblastdb -in tobias_98otus_relab.fasta -dbtype nucl -logfile blastdb98_errors.txt"
   ]
  },
  {
   "cell_type": "markdown",
   "metadata": {},
   "source": [
    "Now use this to query our individual sequences. Blast can spit out csv spreadsheets, and we can control which columns we want. Here I ask for the name of the sequence, the top OTU it blasted to, and the percent identity match. If we want to see other matches, \"-max_target_seqs\" can be adjusted. Visual inspection of second and third blast matches showed that they generally matched to one OTU much more strongly than any others, so I'll just keep the top matches, makes things easier. "
   ]
  },
  {
   "cell_type": "code",
   "execution_count": 34,
   "metadata": {},
   "outputs": [],
   "source": [
    "blastn -query tobias_flies_edited_25.01.2106.fasta -db tobias_99otus_relab.fasta -outfmt \"10 qseqid sseqid pident\" -out tobias_flies_OTU99memberships.csv -max_target_seqs 1\n",
    "blastn -query tobias_flies_edited_25.01.2106.fasta -db tobias_98otus_relab.fasta -outfmt \"10 qseqid sseqid pident\" -out tobias_flies_OTU98memberships.csv -max_target_seqs 1"
   ]
  },
  {
   "cell_type": "markdown",
   "metadata": {},
   "source": [
    "We can add a header:"
   ]
  },
  {
   "cell_type": "code",
   "execution_count": 35,
   "metadata": {},
   "outputs": [],
   "source": [
    "sed '1 i\\qseqid,sseqid,pident' tobias_flies_OTU99memberships.csv -i\n",
    "sed '1 i\\qseqid,sseqid,pident' tobias_flies_OTU98memberships.csv -i"
   ]
  },
  {
   "cell_type": "code",
   "execution_count": 36,
   "metadata": {
    "scrolled": false
   },
   "outputs": [
    {
     "name": "stdout",
     "output_type": "stream",
     "text": [
      "qseqid,sseqid,pident\n",
      "RLCI001-16|Staphylinidae|C10.08,Uniq252,100.00\n",
      "RLCI003-16|Hirtodrosophila,Uniq31,100.00\n",
      "RLCI005-16|Neoponera,Uniq43,100.00\n",
      "RLCI006-16|Neoponera,Uniq43,100.00\n",
      "RLCI008-16|Zygothrica,Uniq21,99.85\n",
      "RLCI010-16|Zygothrica,Uniq227,100.00\n",
      "RLCI011-16|Laccodrosophila,Uniq27,100.00\n",
      "RLCI012-16|Hirtodrosophila,Uniq32,99.70\n",
      "RLCI013-16|Hirtodrosophila,Uniq25,100.00\n"
     ]
    }
   ],
   "source": [
    "head tobias_flies_OTU99memberships.csv"
   ]
  },
  {
   "cell_type": "code",
   "execution_count": 37,
   "metadata": {
    "scrolled": true
   },
   "outputs": [
    {
     "name": "stdout",
     "output_type": "stream",
     "text": [
      "qseqid,sseqid,pident\n",
      "RLCI001-16|Staphylinidae|C10.08,Uniq252,100.00\n",
      "RLCI003-16|Hirtodrosophila,Uniq31,100.00\n",
      "RLCI005-16|Neoponera,Uniq43,100.00\n",
      "RLCI006-16|Neoponera,Uniq43,100.00\n",
      "RLCI008-16|Zygothrica,Uniq21,99.85\n",
      "RLCI010-16|Zygothrica,Uniq227,100.00\n",
      "RLCI011-16|Laccodrosophila,Uniq27,100.00\n",
      "RLCI012-16|Hirtodrosophila,Uniq32,99.70\n",
      "RLCI013-16|Hirtodrosophila,Uniq25,100.00\n"
     ]
    }
   ],
   "source": [
    "head tobias_flies_OTU98memberships.csv"
   ]
  },
  {
   "cell_type": "markdown",
   "metadata": {},
   "source": [
    "And we can send this to Tobias and Bitty to see if it matches their previous results..."
   ]
  },
  {
   "cell_type": "code",
   "execution_count": null,
   "metadata": {
    "collapsed": true
   },
   "outputs": [],
   "source": []
  }
 ],
 "metadata": {
  "kernelspec": {
   "display_name": "Bash",
   "language": "bash",
   "name": "bash"
  },
  "language_info": {
   "codemirror_mode": "shell",
   "file_extension": ".sh",
   "mimetype": "text/x-sh",
   "name": "bash"
  }
 },
 "nbformat": 4,
 "nbformat_minor": 1
}
